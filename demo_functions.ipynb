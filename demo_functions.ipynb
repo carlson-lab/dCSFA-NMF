{
 "cells": [
  {
   "cell_type": "code",
   "execution_count": 1,
   "metadata": {},
   "outputs": [],
   "source": [
    "from nmf_base_class import NMF_Base\n",
    "from dcsfa_nmf_use_base import dCSFA_NMF\n",
    "import pickle\n",
    "import numpy as np"
   ]
  },
  {
   "cell_type": "code",
   "execution_count": 2,
   "metadata": {},
   "outputs": [],
   "source": [
    "trainDict = pickle.load(open(\"TeST_train_dict.pkl\",\"rb\"))"
   ]
  },
  {
   "cell_type": "code",
   "execution_count": 3,
   "metadata": {},
   "outputs": [
    {
     "data": {
      "text/plain": [
       "dict_keys(['X_psd', 'X_coh', 'X_gc', 'X_psd_ds', 'X_ds', 'y_mouse', 'y_task', 'y_geno', 'Freqs', 'powFeatures', 'cohFeatures', 'gcFeatures', 'dsFeatures', 'areas'])"
      ]
     },
     "execution_count": 3,
     "metadata": {},
     "output_type": "execute_result"
    }
   ],
   "source": [
    "trainDict.keys()"
   ]
  },
  {
   "cell_type": "code",
   "execution_count": 4,
   "metadata": {},
   "outputs": [],
   "source": [
    "X = trainDict['X_psd']\n",
    "y_1 = np.array(trainDict['y_task']==\"TS\").astype(float).reshape(-1,1)\n",
    "y_2 = np.array(trainDict['y_task']==\"HC\").astype(float).reshape(-1,1)\n",
    "y = np.hstack([y_1,y_2])"
   ]
  },
  {
   "cell_type": "code",
   "execution_count": 5,
   "metadata": {},
   "outputs": [
    {
     "name": "stdout",
     "output_type": "stream",
     "text": [
      "Model parameters will be saved to directory: .\\\n"
     ]
    }
   ],
   "source": [
    "model = dCSFA_NMF(n_components=20,n_sup_networks=2,recon_loss=\"MSE\",saveFolder=\".\\\\\",verbose=True)"
   ]
  },
  {
   "cell_type": "code",
   "execution_count": 6,
   "metadata": {},
   "outputs": [
    {
     "name": "stdout",
     "output_type": "stream",
     "text": [
      "Pretraining NMF...\n",
      "Identifying predictive components for supervised network 0\n"
     ]
    },
    {
     "name": "stderr",
     "output_type": "stream",
     "text": [
      "100%|██████████| 20/20 [00:00<00:00, 1264.98it/s]\n"
     ]
    },
    {
     "name": "stdout",
     "output_type": "stream",
     "text": [
      "Selecting network: 1 with auc 0.2988818315430984 for sup net 0 using constraint n/a correlation\n",
      "Identifying predictive components for supervised network 1\n"
     ]
    },
    {
     "name": "stderr",
     "output_type": "stream",
     "text": [
      "100%|██████████| 20/20 [00:00<00:00, 1249.92it/s]\n"
     ]
    },
    {
     "name": "stdout",
     "output_type": "stream",
     "text": [
      "Selecting network: 0 with auc 0.6984360617946316 for sup net 1 using constraint n/a correlation\n"
     ]
    },
    {
     "name": "stderr",
     "output_type": "stream",
     "text": [
      "Encoder Pretrain Epoch: 99, Recon Loss: 0.381913: 100%|██████████| 100/100 [00:05<00:00, 17.72it/s]\n"
     ]
    },
    {
     "name": "stdout",
     "output_type": "stream",
     "text": [
      "Beginning Training\n"
     ]
    },
    {
     "name": "stderr",
     "output_type": "stream",
     "text": [
      "Epoch: 99, Best Epoch: 1, Best Val MSE: 0.00520941, Best Val by Window ROC-AUC [0.2806784116439731, 0.7062308757556408], current MSE: 0.00529281, current AUC: [0.3340325932832197, 0.7196935145489374]: 100%|██████████| 100/100 [00:06<00:00, 15.93it/s]"
     ]
    },
    {
     "name": "stdout",
     "output_type": "stream",
     "text": [
      "Loaded the best model from Epoch: 1 with MSE: 0.00520941 and AUCs: [0.2806784116439731, 0.7062308757556408]\n"
     ]
    },
    {
     "name": "stderr",
     "output_type": "stream",
     "text": [
      "\n"
     ]
    }
   ],
   "source": [
    "model.fit(X,y,n_pre_epochs=100,n_epochs=100,nmf_max_iter=2000,X_val=X,y_val=y,verbose=True)"
   ]
  },
  {
   "cell_type": "code",
   "execution_count": 7,
   "metadata": {},
   "outputs": [
    {
     "data": {
      "text/plain": [
       "torch.nn.modules.loss.BCELoss"
      ]
     },
     "execution_count": 7,
     "metadata": {},
     "output_type": "execute_result"
    }
   ],
   "source": [
    "model.pred_loss_f"
   ]
  },
  {
   "cell_type": "code",
   "execution_count": 10,
   "metadata": {},
   "outputs": [
    {
     "data": {
      "text/plain": [
       "Parameter containing:\n",
       "tensor([-1.2292], device='cuda:0', requires_grad=True)"
      ]
     },
     "execution_count": 10,
     "metadata": {},
     "output_type": "execute_result"
    }
   ],
   "source": [
    "model.phi_list[1]"
   ]
  },
  {
   "cell_type": "code",
   "execution_count": null,
   "metadata": {},
   "outputs": [],
   "source": []
  }
 ],
 "metadata": {
  "kernelspec": {
   "display_name": "Python 3.9.7 ('lpne')",
   "language": "python",
   "name": "python3"
  },
  "language_info": {
   "codemirror_mode": {
    "name": "ipython",
    "version": 3
   },
   "file_extension": ".py",
   "mimetype": "text/x-python",
   "name": "python",
   "nbconvert_exporter": "python",
   "pygments_lexer": "ipython3",
   "version": "3.9.7"
  },
  "orig_nbformat": 4,
  "vscode": {
   "interpreter": {
    "hash": "9c5fb8e4bb86d2be894c1c1230d355df1fb941695ed0103f7c22de0e950651de"
   }
  }
 },
 "nbformat": 4,
 "nbformat_minor": 2
}
